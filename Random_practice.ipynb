{
 "cells": [
  {
   "cell_type": "code",
   "execution_count": 128,
   "id": "0b53671f",
   "metadata": {},
   "outputs": [],
   "source": [
    "# Import random\n",
    "import random"
   ]
  },
  {
   "cell_type": "code",
   "execution_count": 129,
   "id": "c1c97f53",
   "metadata": {},
   "outputs": [
    {
     "data": {
      "text/plain": [
       "0.29832089757932756"
      ]
     },
     "execution_count": 129,
     "metadata": {},
     "output_type": "execute_result"
    }
   ],
   "source": [
    "random.random()"
   ]
  },
  {
   "cell_type": "code",
   "execution_count": 130,
   "id": "aa890f88",
   "metadata": {},
   "outputs": [
    {
     "data": {
      "text/plain": [
       "66.23648112104331"
      ]
     },
     "execution_count": 130,
     "metadata": {},
     "output_type": "execute_result"
    }
   ],
   "source": [
    "random_number=random.randint(-90,90)+random.random()\n",
    "random_number"
   ]
  },
  {
   "cell_type": "code",
   "execution_count": 131,
   "id": "ee55342d",
   "metadata": {},
   "outputs": [],
   "source": [
    "x=1\n",
    "latitudes=[]\n",
    "while x < 11:\n",
    "    random_lat=random.randint(-90, 89)+random.random()\n",
    "    latitudes.append(random_lat)\n",
    "    x+=1"
   ]
  },
  {
   "cell_type": "code",
   "execution_count": 132,
   "id": "88f582f3",
   "metadata": {},
   "outputs": [
    {
     "data": {
      "text/plain": [
       "-60"
      ]
     },
     "execution_count": 132,
     "metadata": {},
     "output_type": "execute_result"
    }
   ],
   "source": [
    "random.randrange(-90,90, step=1)"
   ]
  },
  {
   "cell_type": "code",
   "execution_count": 133,
   "id": "98cbe8bb",
   "metadata": {},
   "outputs": [
    {
     "data": {
      "text/plain": [
       "0"
      ]
     },
     "execution_count": 133,
     "metadata": {},
     "output_type": "execute_result"
    }
   ],
   "source": [
    "random.randrange(-90,90, step=3)"
   ]
  },
  {
   "cell_type": "code",
   "execution_count": 134,
   "id": "4259871c",
   "metadata": {},
   "outputs": [
    {
     "data": {
      "text/plain": [
       "40.34837862751439"
      ]
     },
     "execution_count": 134,
     "metadata": {},
     "output_type": "execute_result"
    }
   ],
   "source": [
    "random.uniform(-90,90)"
   ]
  },
  {
   "cell_type": "code",
   "execution_count": 135,
   "id": "a12a68e6",
   "metadata": {},
   "outputs": [],
   "source": [
    "# Import the NumPy module.\n",
    "import numpy as np"
   ]
  },
  {
   "cell_type": "code",
   "execution_count": 136,
   "id": "863bcfaf",
   "metadata": {},
   "outputs": [
    {
     "data": {
      "text/plain": [
       "18.6540904546156"
      ]
     },
     "execution_count": 136,
     "metadata": {},
     "output_type": "execute_result"
    }
   ],
   "source": [
    "np.random.uniform(-90.000,90.000)"
   ]
  },
  {
   "cell_type": "code",
   "execution_count": 137,
   "id": "a75fd7ed",
   "metadata": {},
   "outputs": [
    {
     "data": {
      "text/plain": [
       "-6.71034139108076"
      ]
     },
     "execution_count": 137,
     "metadata": {},
     "output_type": "execute_result"
    }
   ],
   "source": [
    "np.random.uniform(low=-90, high=90)"
   ]
  },
  {
   "cell_type": "code",
   "execution_count": 138,
   "id": "cfb66310",
   "metadata": {},
   "outputs": [
    {
     "data": {
      "text/plain": [
       "array([-16.48904454, -63.8537915 ,  78.04125852,  85.1878194 ,\n",
       "       -49.23178688,  77.48484432, -35.66664731, -65.787105  ,\n",
       "        50.79281504,  46.23501524,  14.62235576, -24.36572923,\n",
       "        30.29513958, -20.85172799,  75.23292031, -77.6001328 ,\n",
       "        26.21388945,   4.0995059 ,  46.99995294,  14.84545309,\n",
       "       -56.66417609,  74.27417489,   6.24544421, -58.48534555,\n",
       "       -29.31246037,  69.72020588,  83.14043859,  -5.14989661,\n",
       "       -43.61264807, -56.752469  ,  18.65896855, -48.45183125,\n",
       "       -13.64410002, -65.16712295, -66.79085501,  34.2961813 ,\n",
       "        76.61544265, -72.84462194, -58.58534211,   5.66700661,\n",
       "        12.94065927, -69.85906477, -73.53438143,  69.63079623,\n",
       "       -18.58005435, -19.43524143, -72.83385847,  36.72842874,\n",
       "       -25.80591947,  43.59405109])"
      ]
     },
     "execution_count": 138,
     "metadata": {},
     "output_type": "execute_result"
    }
   ],
   "source": [
    "np.random.uniform(-90.000,90.000, size=50)"
   ]
  },
  {
   "cell_type": "code",
   "execution_count": 142,
   "id": "9e78f8f0",
   "metadata": {},
   "outputs": [],
   "source": [
    "# Import timeit.\n",
    "import timeit"
   ]
  },
  {
   "cell_type": "code",
   "execution_count": 143,
   "id": "e26e3ca0",
   "metadata": {},
   "outputs": [
    {
     "name": "stdout",
     "output_type": "stream",
     "text": [
      "12.1 µs ± 46.2 ns per loop (mean ± std. dev. of 7 runs, 100000 loops each)\n"
     ]
    }
   ],
   "source": [
    "%timeit np.random.uniform(-90.000,90.000,size=1500)"
   ]
  },
  {
   "cell_type": "code",
   "execution_count": 145,
   "id": "8be5660e",
   "metadata": {},
   "outputs": [
    {
     "name": "stdout",
     "output_type": "stream",
     "text": [
      "1.54 ms ± 10.6 µs per loop (mean ± std. dev. of 7 runs, 1000 loops each)\n"
     ]
    }
   ],
   "source": [
    "def latitudes(size):\n",
    "    latitudes=[]\n",
    "    x=0\n",
    "    while x < (size):\n",
    "        random_lat=random.randint(-90,90)+random.random()\n",
    "        latitudes.append(random_lat)\n",
    "        x+=1\n",
    "    return latitudes\n",
    "# Call the function with 1,500.\n",
    "%timeit latitudes(1500)"
   ]
  },
  {
   "cell_type": "code",
   "execution_count": null,
   "id": "7d773d70",
   "metadata": {},
   "outputs": [],
   "source": []
  }
 ],
 "metadata": {
  "kernelspec": {
   "display_name": "PythonData",
   "language": "python",
   "name": "pythondata"
  },
  "language_info": {
   "codemirror_mode": {
    "name": "ipython",
    "version": 3
   },
   "file_extension": ".py",
   "mimetype": "text/x-python",
   "name": "python",
   "nbconvert_exporter": "python",
   "pygments_lexer": "ipython3",
   "version": "3.7.10"
  }
 },
 "nbformat": 4,
 "nbformat_minor": 5
}
